{
 "cells": [
  {
   "cell_type": "code",
   "execution_count": 2,
   "id": "67c77f77",
   "metadata": {},
   "outputs": [
    {
     "data": {
      "text/html": [
       "<div>\n",
       "<style scoped>\n",
       "    .dataframe tbody tr th:only-of-type {\n",
       "        vertical-align: middle;\n",
       "    }\n",
       "\n",
       "    .dataframe tbody tr th {\n",
       "        vertical-align: top;\n",
       "    }\n",
       "\n",
       "    .dataframe thead th {\n",
       "        text-align: right;\n",
       "    }\n",
       "</style>\n",
       "<table border=\"1\" class=\"dataframe\">\n",
       "  <thead>\n",
       "    <tr style=\"text-align: right;\">\n",
       "      <th></th>\n",
       "      <th>transaction_date</th>\n",
       "      <th>day</th>\n",
       "      <th>hour</th>\n",
       "      <th>isweeekend</th>\n",
       "    </tr>\n",
       "  </thead>\n",
       "  <tbody>\n",
       "    <tr>\n",
       "      <th>0</th>\n",
       "      <td>2025-02-04 02:23:33</td>\n",
       "      <td>1</td>\n",
       "      <td>2</td>\n",
       "      <td>0</td>\n",
       "    </tr>\n",
       "    <tr>\n",
       "      <th>1</th>\n",
       "      <td>2024-03-12 09:38:11</td>\n",
       "      <td>1</td>\n",
       "      <td>9</td>\n",
       "      <td>0</td>\n",
       "    </tr>\n",
       "  </tbody>\n",
       "</table>\n",
       "</div>"
      ],
      "text/plain": [
       "     transaction_date  day  hour  isweeekend\n",
       "0 2025-02-04 02:23:33    1     2           0\n",
       "1 2024-03-12 09:38:11    1     9           0"
      ]
     },
     "execution_count": 2,
     "metadata": {},
     "output_type": "execute_result"
    }
   ],
   "source": [
    "import pandas as pd \n",
    "df=pd.DataFrame({\n",
    "    \"transaction_date\":pd.to_datetime(['2025-2-4 2:23:33','2024-3-12 9:38:11'])\n",
    "\n",
    "})\n",
    "df['day']=df['transaction_date'].dt.dayofweek\n",
    "df['hour']=df['transaction_date'].dt.hour\n",
    "df['isweeekend']=df['day'].apply(lambda z:1 if z>=5 else 0)\n",
    "df"
   ]
  },
  {
   "cell_type": "code",
   "execution_count": 10,
   "id": "50e3d44b",
   "metadata": {
    "scrolled": true
   },
   "outputs": [
    {
     "name": "stdout",
     "output_type": "stream",
     "text": [
      "   product_category_clothing  product_category_electronic  \\\n",
      "0                        0.0                          1.0   \n",
      "1                        1.0                          0.0   \n",
      "2                        1.0                          0.0   \n",
      "3                        0.0                          0.0   \n",
      "\n",
      "   product_category_grocery  \n",
      "0                       0.0  \n",
      "1                       0.0  \n",
      "2                       0.0  \n",
      "3                       1.0  \n"
     ]
    }
   ],
   "source": [
    "from sklearn.preprocessing import OneHotEncoder\n",
    "df=pd.DataFrame({'product_category':['electronic','clothing','clothing','grocery']})\n",
    "encoder=OneHotEncoder(sparse_output=False)\n",
    "encoder_features=encoder.fit_transform(df[['product_category']])\n",
    "df_encoder=pd.DataFrame(encoder_features,columns=encoder.get_feature_names_out())\n",
    "print(df_encoder)"
   ]
  },
  {
   "cell_type": "code",
   "execution_count": 16,
   "id": "0ab82a24",
   "metadata": {},
   "outputs": [
    {
     "name": "stdout",
     "output_type": "stream",
     "text": [
      "   transactionamount  Logtransactionamount\n",
      "0                100              4.615121\n",
      "1                200              5.303305\n",
      "2                300              5.707110\n",
      "3                400              5.993961\n"
     ]
    }
   ],
   "source": [
    "import numpy as np\n",
    "df=pd.DataFrame({\n",
    "    'transactionamount':[100,200,300,400]\n",
    "})\n",
    "df['Logtransactionamount']=np.log1p(df['transactionamount'])\n",
    "print(df)"
   ]
  },
  {
   "cell_type": "code",
   "execution_count": 24,
   "id": "09989869",
   "metadata": {},
   "outputs": [
    {
     "data": {
      "text/html": [
       "<div>\n",
       "<style scoped>\n",
       "    .dataframe tbody tr th:only-of-type {\n",
       "        vertical-align: middle;\n",
       "    }\n",
       "\n",
       "    .dataframe tbody tr th {\n",
       "        vertical-align: top;\n",
       "    }\n",
       "\n",
       "    .dataframe thead th {\n",
       "        text-align: right;\n",
       "    }\n",
       "</style>\n",
       "<table border=\"1\" class=\"dataframe\">\n",
       "  <thead>\n",
       "    <tr style=\"text-align: right;\">\n",
       "      <th></th>\n",
       "      <th>transactionamount</th>\n",
       "      <th>Logtransactionamount</th>\n",
       "      <th>normalization_transasction_amount</th>\n",
       "      <th>standardized_transaction_amount</th>\n",
       "    </tr>\n",
       "  </thead>\n",
       "  <tbody>\n",
       "    <tr>\n",
       "      <th>0</th>\n",
       "      <td>100</td>\n",
       "      <td>4.615121</td>\n",
       "      <td>0.000000</td>\n",
       "      <td>-1.341641</td>\n",
       "    </tr>\n",
       "    <tr>\n",
       "      <th>1</th>\n",
       "      <td>200</td>\n",
       "      <td>5.303305</td>\n",
       "      <td>0.333333</td>\n",
       "      <td>-0.447214</td>\n",
       "    </tr>\n",
       "    <tr>\n",
       "      <th>2</th>\n",
       "      <td>300</td>\n",
       "      <td>5.707110</td>\n",
       "      <td>0.666667</td>\n",
       "      <td>0.447214</td>\n",
       "    </tr>\n",
       "    <tr>\n",
       "      <th>3</th>\n",
       "      <td>400</td>\n",
       "      <td>5.993961</td>\n",
       "      <td>1.000000</td>\n",
       "      <td>1.341641</td>\n",
       "    </tr>\n",
       "  </tbody>\n",
       "</table>\n",
       "</div>"
      ],
      "text/plain": [
       "   transactionamount  Logtransactionamount  normalization_transasction_amount  \\\n",
       "0                100              4.615121                           0.000000   \n",
       "1                200              5.303305                           0.333333   \n",
       "2                300              5.707110                           0.666667   \n",
       "3                400              5.993961                           1.000000   \n",
       "\n",
       "   standardized_transaction_amount  \n",
       "0                        -1.341641  \n",
       "1                        -0.447214  \n",
       "2                         0.447214  \n",
       "3                         1.341641  "
      ]
     },
     "execution_count": 24,
     "metadata": {},
     "output_type": "execute_result"
    }
   ],
   "source": [
    "from sklearn.preprocessing import MinMaxScaler,StandardScaler\n",
    "scaler=MinMaxScaler()\n",
    "df['normalization_transasction_amount']=scaler.fit_transform(df[['transactionamount']])\n",
    "standard_scaler=StandardScaler()\n",
    "df['standardized_transaction_amount']=standard_scaler.fit_transform(df[['transactionamount']])\n",
    "df\n"
   ]
  },
  {
   "cell_type": "code",
   "execution_count": null,
   "id": "531bfff9",
   "metadata": {},
   "outputs": [],
   "source": []
  }
 ],
 "metadata": {
  "kernelspec": {
   "display_name": "Python 3 (ipykernel)",
   "language": "python",
   "name": "python3"
  },
  "language_info": {
   "codemirror_mode": {
    "name": "ipython",
    "version": 3
   },
   "file_extension": ".py",
   "mimetype": "text/x-python",
   "name": "python",
   "nbconvert_exporter": "python",
   "pygments_lexer": "ipython3",
   "version": "3.11.5"
  }
 },
 "nbformat": 4,
 "nbformat_minor": 5
}
