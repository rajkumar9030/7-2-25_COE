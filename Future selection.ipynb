{
 "cells": [
  {
   "cell_type": "markdown",
   "id": "61ee9b24",
   "metadata": {},
   "source": [
    " *1.Reduces Overfitting 📉*\n",
    " \n",
    "        Too many irrelevant features can make a model complex and cause it to overfit the training data.\n",
    "*2.Improves Model Performance 🚀*\n",
    " \n",
    "        Selecting relevant features boosts accuracy and reduces unnecessary noise in the data.\n",
    "*3.Reduces Training Time ⏳*\n",
    " \n",
    "        Fewer features mean faster model training and lower computational cost.\n",
    "*4.Enhances Interpretability 🔍*\n",
    " \n",
    "        Helps in understanding which features actually impact predictions."
   ]
  },
  {
   "cell_type": "markdown",
   "id": "b1c7a59c",
   "metadata": {},
   "source": [
    "**Types of Feature Selection Methods**\n",
    " \n",
    "<ins>*Type => Filter Methods:*</ins>\n",
    " \n",
    "Method => Correlation, Chi-Square, Mutual Information.\n",
    " \n",
    "Description => Rank features based on statistical tests.\n",
    " \n",
    "<ins>*Type => Wrapper Methods:*</ins>\n",
    " \n",
    "Method => Forward/Backward Selection, Recursive Feature Elimination (RFE)\n",
    " \n",
    "Description => Train models with different feature subsets and select the best.\n",
    " \n",
    "<ins>*Type => Embedded Methods*</ins>\n",
    " \n",
    "Method =>Lasso Regression, Decision Trees\n",
    " \n",
    "Description =>Feature selection is built into the model training process.\n",
    " "
   ]
  },
  {
   "cell_type": "code",
   "execution_count": 2,
   "id": "6c9841a4",
   "metadata": {},
   "outputs": [],
   "source": [
    "import pandas as pd \n",
    "import numpy as np\n",
    "from sklearn.model_selection import train_test_split\n",
    "from sklearn.ensemble import RandomForestRegressor\n",
    "from sklearn.feature_selection import RFE\n",
    "from sklearn.linear_model import Lasso\n",
    "import seaborn as sns\n",
    "import matplotlib.pyplot as plt\n",
    "\n"
   ]
  },
  {
   "cell_type": "code",
   "execution_count": 5,
   "id": "05ebf6b0",
   "metadata": {},
   "outputs": [
    {
     "data": {
      "text/html": [
       "<div>\n",
       "<style scoped>\n",
       "    .dataframe tbody tr th:only-of-type {\n",
       "        vertical-align: middle;\n",
       "    }\n",
       "\n",
       "    .dataframe tbody tr th {\n",
       "        vertical-align: top;\n",
       "    }\n",
       "\n",
       "    .dataframe thead th {\n",
       "        text-align: right;\n",
       "    }\n",
       "</style>\n",
       "<table border=\"1\" class=\"dataframe\">\n",
       "  <thead>\n",
       "    <tr style=\"text-align: right;\">\n",
       "      <th></th>\n",
       "      <th>size</th>\n",
       "      <th>bed room</th>\n",
       "      <th>age</th>\n",
       "      <th>price</th>\n",
       "    </tr>\n",
       "  </thead>\n",
       "  <tbody>\n",
       "    <tr>\n",
       "      <th>0</th>\n",
       "      <td>4174</td>\n",
       "      <td>2</td>\n",
       "      <td>352</td>\n",
       "      <td>413003</td>\n",
       "    </tr>\n",
       "    <tr>\n",
       "      <th>1</th>\n",
       "      <td>4507</td>\n",
       "      <td>2</td>\n",
       "      <td>231</td>\n",
       "      <td>225657</td>\n",
       "    </tr>\n",
       "    <tr>\n",
       "      <th>2</th>\n",
       "      <td>1860</td>\n",
       "      <td>4</td>\n",
       "      <td>241</td>\n",
       "      <td>335167</td>\n",
       "    </tr>\n",
       "    <tr>\n",
       "      <th>3</th>\n",
       "      <td>2294</td>\n",
       "      <td>2</td>\n",
       "      <td>52</td>\n",
       "      <td>257381</td>\n",
       "    </tr>\n",
       "    <tr>\n",
       "      <th>4</th>\n",
       "      <td>2130</td>\n",
       "      <td>2</td>\n",
       "      <td>96</td>\n",
       "      <td>294806</td>\n",
       "    </tr>\n",
       "    <tr>\n",
       "      <th>...</th>\n",
       "      <td>...</td>\n",
       "      <td>...</td>\n",
       "      <td>...</td>\n",
       "      <td>...</td>\n",
       "    </tr>\n",
       "    <tr>\n",
       "      <th>95</th>\n",
       "      <td>2129</td>\n",
       "      <td>2</td>\n",
       "      <td>385</td>\n",
       "      <td>212296</td>\n",
       "    </tr>\n",
       "    <tr>\n",
       "      <th>96</th>\n",
       "      <td>4843</td>\n",
       "      <td>4</td>\n",
       "      <td>403</td>\n",
       "      <td>194179</td>\n",
       "    </tr>\n",
       "    <tr>\n",
       "      <th>97</th>\n",
       "      <td>4893</td>\n",
       "      <td>1</td>\n",
       "      <td>126</td>\n",
       "      <td>190272</td>\n",
       "    </tr>\n",
       "    <tr>\n",
       "      <th>98</th>\n",
       "      <td>2500</td>\n",
       "      <td>3</td>\n",
       "      <td>130</td>\n",
       "      <td>138467</td>\n",
       "    </tr>\n",
       "    <tr>\n",
       "      <th>99</th>\n",
       "      <td>1702</td>\n",
       "      <td>3</td>\n",
       "      <td>53</td>\n",
       "      <td>385472</td>\n",
       "    </tr>\n",
       "  </tbody>\n",
       "</table>\n",
       "<p>100 rows × 4 columns</p>\n",
       "</div>"
      ],
      "text/plain": [
       "    size  bed room  age   price\n",
       "0   4174         2  352  413003\n",
       "1   4507         2  231  225657\n",
       "2   1860         4  241  335167\n",
       "3   2294         2   52  257381\n",
       "4   2130         2   96  294806\n",
       "..   ...       ...  ...     ...\n",
       "95  2129         2  385  212296\n",
       "96  4843         4  403  194179\n",
       "97  4893         1  126  190272\n",
       "98  2500         3  130  138467\n",
       "99  1702         3   53  385472\n",
       "\n",
       "[100 rows x 4 columns]"
      ]
     },
     "execution_count": 5,
     "metadata": {},
     "output_type": "execute_result"
    }
   ],
   "source": [
    "np.random.seed(42)\n",
    "data=pd.DataFrame({\n",
    "    'size':np.random.randint(1000,5000,100),\n",
    "    'bed room':np.random.randint(1,5,100),\n",
    "    'age':np.random.randint(1,500,100),\n",
    "    'price':np.random.randint(100000,500000,100),\n",
    "})\n",
    "data"
   ]
  },
  {
   "cell_type": "code",
   "execution_count": 6,
   "id": "f9cd56b4",
   "metadata": {},
   "outputs": [
    {
     "data": {
      "image/png": "[encoded data removed]",
      "text/plain": [
       "<Figure size 640x480 with 2 Axes>"
      ]
     },
     "metadata": {},
     "output_type": "display_data"
    }
   ],
   "source": [
    "sns.heatmap(data.corr(),annot=True,cmap='magma',fmt='.2f')\n",
    "plt.title(\"future corelational matrix\")\n",
    "plt.show()"
   ]
  },
  {
   "cell_type": "code",
   "execution_count": 8,
   "id": "a1a96256",
   "metadata": {},
   "outputs": [
    {
     "name": "stdout",
     "output_type": "stream",
     "text": [
      "selected Feature using RFE: Index(['size', 'age'], dtype='object')\n"
     ]
    }
   ],
   "source": [
    "x=data.drop(columns=['price'])\n",
    "y=data['price']\n",
    "\n",
    "model=RandomForestRegressor()\n",
    "rfe=RFE(model,n_features_to_select=2)\n",
    "x_selected=rfe.fit_transform(x,y)\n",
    "\n",
    "print(\"selected Feature using RFE:\",x.columns[rfe.support_])\n",
    "#apply RFE(wrapper method to select top 2 important features)"
   ]
  },
  {
   "cell_type": "code",
   "execution_count": 10,
   "id": "81512eef",
   "metadata": {},
   "outputs": [
    {
     "name": "stdout",
     "output_type": "stream",
     "text": [
      "Selectedfeature using lasso: Index(['size', 'bed room', 'age'], dtype='object')\n"
     ]
    }
   ],
   "source": [
    "lasso=Lasso(alpha=0.1)\n",
    "lasso.fit(x,y)\n",
    "importance =np.abs(lasso.coef_)\n",
    "\n",
    "selected_features=x.columns[importance>0]\n",
    "print(\"Selectedfeature using lasso:\",selected_features)\n",
    "#apply lasso to eliminate irelevant features"
   ]
  },
  {
   "cell_type": "code",
   "execution_count": null,
   "id": "58306643",
   "metadata": {},
   "outputs": [],
   "source": []
  }
 ],
 "metadata": {
  "kernelspec": {
   "display_name": "Python 3 (ipykernel)",
   "language": "python",
   "name": "python3"
  },
  "language_info": {
   "codemirror_mode": {
    "name": "ipython",
    "version": 3
   },
   "file_extension": ".py",
   "mimetype": "text/x-python",
   "name": "python",
   "nbconvert_exporter": "python",
   "pygments_lexer": "ipython3",
   "version": "3.11.5"
  }
 },
 "nbformat": 4,
 "nbformat_minor": 5
}
